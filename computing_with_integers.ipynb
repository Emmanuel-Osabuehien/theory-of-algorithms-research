{
 "cells": [
  {
   "cell_type": "markdown",
   "id": "2a064842",
   "metadata": {},
   "source": [
    "# Computing with the Integers\n",
    "\n",
    "****"
   ]
  },
  {
   "cell_type": "code",
   "execution_count": 1,
   "id": "32201dcd",
   "metadata": {},
   "outputs": [],
   "source": [
    "def double(i):\n",
    "    return 2 * i"
   ]
  },
  {
   "cell_type": "code",
   "execution_count": 2,
   "id": "194e4b4b",
   "metadata": {},
   "outputs": [],
   "source": [
    "eg_list_of_inputs = [-9, -8, -7, -6, -5, -4, -3, -2, -1, 0, 1, 2, 3, 4, 5, 6, 7, 8, 9]"
   ]
  },
  {
   "cell_type": "code",
   "execution_count": 3,
   "id": "c1a7271a",
   "metadata": {},
   "outputs": [
    {
     "data": {
      "text/plain": [
       "[-18, -16, -14, -12, -10, -8, -6, -4, -2, 0, 2, 4, 6, 8, 10, 12, 14, 16, 18]"
      ]
     },
     "execution_count": 3,
     "metadata": {},
     "output_type": "execute_result"
    }
   ],
   "source": [
    "eg_list_of_outputs = list(map(double, eg_list_of_inputs))\n",
    "eg_list_of_outputs"
   ]
  },
  {
   "cell_type": "code",
   "execution_count": 4,
   "id": "eff8e89a",
   "metadata": {},
   "outputs": [
    {
     "name": "stdout",
     "output_type": "stream",
     "text": [
      " -9 ->  -18\n",
      " -8 ->  -16\n",
      " -7 ->  -14\n",
      " -6 ->  -12\n",
      " -5 ->  -10\n",
      " -4 ->   -8\n",
      " -3 ->   -6\n",
      " -2 ->   -4\n",
      " -1 ->   -2\n",
      "  0 ->    0\n",
      "  1 ->    2\n",
      "  2 ->    4\n",
      "  3 ->    6\n",
      "  4 ->    8\n",
      "  5 ->   10\n",
      "  6 ->   12\n",
      "  7 ->   14\n",
      "  8 ->   16\n",
      "  9 ->   18\n"
     ]
    }
   ],
   "source": [
    "for i in range(-9, 10):\n",
    "    print(f'{i:3} ->  {double(i):3}')"
   ]
  },
  {
   "cell_type": "markdown",
   "id": "d35dae10",
   "metadata": {},
   "source": [
    "<br>\n",
    "\n",
    "$ f: \\mathbb{Z} \\rightarrow 2 \\mathbb{Z} $\n",
    "\n",
    "$ \\mathbb{Z} = \\{ \\ldots, -2, -1, 0, 1, 2, \\ldots \\} $\n",
    "\n",
    "$ 2 \\mathbb{Z} = \\{ \\ldots, -2, 0, 2, \\ldots \\} $\n",
    "\n",
    "$ 2 \\mathbb{Z} \\subset \\mathbb{Z} $\n",
    "\n",
    "$ \\mathbb{Z} | $ is $\\aleph_0$\n",
    "\n",
    "<br>"
   ]
  },
  {
   "cell_type": "markdown",
   "id": "6ab44155",
   "metadata": {},
   "source": [
    "## The Integers and the Reals\n",
    "\n",
    "****"
   ]
  },
  {
   "cell_type": "markdown",
   "id": "249d7299",
   "metadata": {},
   "source": [
    "$\\mathbb{N}_0 = \\{0, 1, 2, 3, \\ldots \\}$\n",
    "\n",
    "$ |\\mathbb{N}_0|$ is $\\aleph_0$\n",
    "\n",
    "$0 \\rightarrow 0$\n",
    "\n",
    "$1 \\rightarrow -1$\n",
    "\n",
    "$2 \\rightarrow 1$\n",
    "\n",
    "$3 \\rightarrow -2$\n",
    "\n",
    "$4 \\rightarrow 2$\n",
    "\n",
    "$\\ldots$"
   ]
  },
  {
   "cell_type": "code",
   "execution_count": 5,
   "id": "1432111c",
   "metadata": {},
   "outputs": [
    {
     "name": "stdout",
     "output_type": "stream",
     "text": [
      " 0 -> 0.51493658408773279600...\n",
      " 1 -> 0.09482458199143672939...\n",
      " 2 -> 0.05474522938292059049...\n",
      " 3 -> 0.94604622797754023278...\n",
      " 4 -> 0.19252849788291115374...\n",
      " 5 -> 0.24761852933800765353...\n",
      " 6 -> 0.55984566562222204400...\n",
      " 7 -> 0.64784227720054465838...\n",
      " 8 -> 0.40438011602862822258...\n",
      " 9 -> 0.49162422358580626369...\n",
      "and so on\n"
     ]
    }
   ],
   "source": [
    "import random\n",
    "\n",
    "for n in range(10):\n",
    "    print(f'{n:2} -> {random.random():0.20f}...')\n",
    "print('and so on')"
   ]
  },
  {
   "cell_type": "code",
   "execution_count": null,
   "id": "1995e5c6",
   "metadata": {},
   "outputs": [],
   "source": [
    "0.0663927917..."
   ]
  },
  {
   "cell_type": "markdown",
   "id": "3fc63657",
   "metadata": {},
   "source": [
    "$\\mathbb{N}_0 = \\{0, 1, 2, 3, \\ldots \\}$\n",
    "\n",
    "$\\mathbf{P}(\\mathbb{N}_0) = \\{ \\{\\}, \\{0\\}, \\{1\\}, \\{2\\}, \\{3\\}, \\ldots \\{0,1\\} \\ldots \\}$\n",
    "\n",
    "$|\\mathbf{P}(\\mathbb{N}_0)|$ is $\\aleph_1$"
   ]
  },
  {
   "cell_type": "code",
   "execution_count": null,
   "id": "3627d5fb",
   "metadata": {},
   "outputs": [],
   "source": []
  }
 ],
 "metadata": {
  "kernelspec": {
   "display_name": "Python 3 (ipykernel)",
   "language": "python",
   "name": "python3"
  },
  "language_info": {
   "codemirror_mode": {
    "name": "ipython",
    "version": 3
   },
   "file_extension": ".py",
   "mimetype": "text/x-python",
   "name": "python",
   "nbconvert_exporter": "python",
   "pygments_lexer": "ipython3",
   "version": "3.8.12"
  }
 },
 "nbformat": 4,
 "nbformat_minor": 5
}
