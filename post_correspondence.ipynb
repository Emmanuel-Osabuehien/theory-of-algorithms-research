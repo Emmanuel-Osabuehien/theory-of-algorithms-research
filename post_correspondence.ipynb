{
 "cells": [
  {
   "cell_type": "markdown",
   "id": "95d50473",
   "metadata": {},
   "source": [
    "# Post Correspondence Problem\n",
    "\n",
    "https://en.wikipedia.org/wiki/Post_correspondence_problem\n",
    "\n",
    "****"
   ]
  },
  {
   "cell_type": "code",
   "execution_count": 1,
   "id": "7ab1b566",
   "metadata": {},
   "outputs": [],
   "source": [
    "A = {'a', 'b'}"
   ]
  },
  {
   "cell_type": "code",
   "execution_count": 2,
   "id": "0aad88d4",
   "metadata": {},
   "outputs": [],
   "source": [
    "L1 = ['a', 'ab', 'bba']"
   ]
  },
  {
   "cell_type": "code",
   "execution_count": 3,
   "id": "7b84d639",
   "metadata": {},
   "outputs": [],
   "source": [
    "L2 = ['baa', 'aa', 'bb']"
   ]
  },
  {
   "cell_type": "code",
   "execution_count": 4,
   "id": "f603664f",
   "metadata": {},
   "outputs": [],
   "source": [
    "S = [2, 1, 2, 0]"
   ]
  },
  {
   "cell_type": "code",
   "execution_count": 5,
   "id": "6d7850bf",
   "metadata": {},
   "outputs": [
    {
     "data": {
      "text/plain": [
       "'bbaabbbaa'"
      ]
     },
     "execution_count": 5,
     "metadata": {},
     "output_type": "execute_result"
    }
   ],
   "source": [
    "# Apply S to L1.\n",
    "'bba' + 'ab' + 'bba' + 'a'"
   ]
  },
  {
   "cell_type": "code",
   "execution_count": 6,
   "id": "59e77d0c",
   "metadata": {},
   "outputs": [
    {
     "data": {
      "text/plain": [
       "'bbaabbbaa'"
      ]
     },
     "execution_count": 6,
     "metadata": {},
     "output_type": "execute_result"
    }
   ],
   "source": [
    "# Apply S to L2.\n",
    "'bb' + 'aa' + 'bb' + 'baa'"
   ]
  },
  {
   "cell_type": "markdown",
   "id": "64af089e",
   "metadata": {},
   "source": [
    "So, `L1` corresponds to `L2`."
   ]
  },
  {
   "cell_type": "code",
   "execution_count": 7,
   "id": "c25c453c",
   "metadata": {},
   "outputs": [],
   "source": [
    "def apply(S, L):\n",
    "    S_on_L = [L[i] for i in S]\n",
    "    return ''.join(S_on_L)"
   ]
  },
  {
   "cell_type": "code",
   "execution_count": 8,
   "id": "2372d3a3",
   "metadata": {},
   "outputs": [
    {
     "data": {
      "text/plain": [
       "'bbaabbbaa'"
      ]
     },
     "execution_count": 8,
     "metadata": {},
     "output_type": "execute_result"
    }
   ],
   "source": [
    "apply(S, L1)"
   ]
  },
  {
   "cell_type": "code",
   "execution_count": 9,
   "id": "02ac6bf4",
   "metadata": {},
   "outputs": [
    {
     "data": {
      "text/plain": [
       "[2, 1, 2, 0]"
      ]
     },
     "execution_count": 9,
     "metadata": {},
     "output_type": "execute_result"
    }
   ],
   "source": [
    "S"
   ]
  },
  {
   "cell_type": "code",
   "execution_count": 10,
   "id": "dbc2c5b3",
   "metadata": {},
   "outputs": [
    {
     "data": {
      "text/plain": [
       "['a', 'ab', 'bba']"
      ]
     },
     "execution_count": 10,
     "metadata": {},
     "output_type": "execute_result"
    }
   ],
   "source": [
    "L1"
   ]
  },
  {
   "cell_type": "code",
   "execution_count": 11,
   "id": "f916579d",
   "metadata": {},
   "outputs": [
    {
     "data": {
      "text/plain": [
       "['bba', 'ab', 'bba', 'a']"
      ]
     },
     "execution_count": 11,
     "metadata": {},
     "output_type": "execute_result"
    }
   ],
   "source": [
    "[L1[i] for i in S]"
   ]
  },
  {
   "cell_type": "code",
   "execution_count": 12,
   "id": "e9ac23b4",
   "metadata": {},
   "outputs": [
    {
     "data": {
      "text/plain": [
       "'oneJOINtwoJOINthree'"
      ]
     },
     "execution_count": 12,
     "metadata": {},
     "output_type": "execute_result"
    }
   ],
   "source": [
    "'JOIN'.join(['one', 'two', 'three'])"
   ]
  },
  {
   "cell_type": "code",
   "execution_count": 13,
   "id": "8292467b",
   "metadata": {},
   "outputs": [
    {
     "data": {
      "text/plain": [
       "'bbaabbbaa'"
      ]
     },
     "execution_count": 13,
     "metadata": {},
     "output_type": "execute_result"
    }
   ],
   "source": [
    "apply(S, L1)"
   ]
  },
  {
   "cell_type": "code",
   "execution_count": 14,
   "id": "5f6d3b7c",
   "metadata": {},
   "outputs": [
    {
     "data": {
      "text/plain": [
       "'bbaabbbaa'"
      ]
     },
     "execution_count": 14,
     "metadata": {},
     "output_type": "execute_result"
    }
   ],
   "source": [
    "apply(S, L2)"
   ]
  },
  {
   "cell_type": "code",
   "execution_count": 15,
   "id": "55e12fab",
   "metadata": {},
   "outputs": [
    {
     "data": {
      "text/plain": [
       "True"
      ]
     },
     "execution_count": 15,
     "metadata": {},
     "output_type": "execute_result"
    }
   ],
   "source": [
    "apply(S, L1) == apply(S, L2)"
   ]
  },
  {
   "cell_type": "code",
   "execution_count": 16,
   "id": "423f9cc5",
   "metadata": {},
   "outputs": [
    {
     "data": {
      "text/plain": [
       "'bbaabbbaabbaabbbaa'"
      ]
     },
     "execution_count": 16,
     "metadata": {},
     "output_type": "execute_result"
    }
   ],
   "source": [
    "apply([2, 1, 2, 0, 2, 1, 2, 0], L1)"
   ]
  },
  {
   "cell_type": "code",
   "execution_count": 17,
   "id": "b16cb44e",
   "metadata": {},
   "outputs": [
    {
     "data": {
      "text/plain": [
       "'bbaabbbaabbaabbbaa'"
      ]
     },
     "execution_count": 17,
     "metadata": {},
     "output_type": "execute_result"
    }
   ],
   "source": [
    "apply([2, 1, 2, 0, 2, 1, 2, 0], L2)"
   ]
  },
  {
   "cell_type": "markdown",
   "id": "6c9339ea",
   "metadata": {},
   "source": [
    "<br>\n",
    "\n",
    "### No Correspondence\n",
    "\n",
    "****"
   ]
  },
  {
   "cell_type": "code",
   "execution_count": 18,
   "id": "b08f1bc4",
   "metadata": {},
   "outputs": [],
   "source": [
    "L1 = ['ab', 'bba']"
   ]
  },
  {
   "cell_type": "code",
   "execution_count": 19,
   "id": "76d06af9",
   "metadata": {},
   "outputs": [],
   "source": [
    "L2 = ['aa', 'bb']"
   ]
  },
  {
   "cell_type": "code",
   "execution_count": null,
   "id": "3d4f4232",
   "metadata": {},
   "outputs": [],
   "source": [
    "S = ?"
   ]
  },
  {
   "cell_type": "markdown",
   "id": "66f34881",
   "metadata": {},
   "source": [
    "$$ (L_1,L_2) \\rightarrow \\{True, False\\} \\qquad |L_1| = |L_2| $$"
   ]
  },
  {
   "cell_type": "markdown",
   "id": "0b0b38be",
   "metadata": {},
   "source": [
    "<br>\n",
    "\n",
    "### Bounded PCP\n",
    "\n",
    "****"
   ]
  },
  {
   "cell_type": "markdown",
   "id": "4238e5b9",
   "metadata": {},
   "source": [
    "$$ |S| \\leq K \\qquad K \\in \\mathbb{N} $$"
   ]
  },
  {
   "cell_type": "code",
   "execution_count": null,
   "id": "cb9e7ee7",
   "metadata": {},
   "outputs": [],
   "source": [
    "def bpcp_solver(L1, L2, K):\n",
    "    if correspond(L1, L2):\n",
    "        return True\n",
    "    else:\n",
    "        return False"
   ]
  }
 ],
 "metadata": {
  "kernelspec": {
   "display_name": "Python 3 (ipykernel)",
   "language": "python",
   "name": "python3"
  },
  "language_info": {
   "codemirror_mode": {
    "name": "ipython",
    "version": 3
   },
   "file_extension": ".py",
   "mimetype": "text/x-python",
   "name": "python",
   "nbconvert_exporter": "python",
   "pygments_lexer": "ipython3",
   "version": "3.8.12"
  }
 },
 "nbformat": 4,
 "nbformat_minor": 5
}
