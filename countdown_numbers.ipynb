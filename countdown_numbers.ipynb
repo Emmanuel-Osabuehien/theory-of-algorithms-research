{
 "cells": [
  {
   "cell_type": "markdown",
   "metadata": {
    "id": "8pbBoNnjyYUq"
   },
   "source": [
    "# Countdown Numbers\n",
    "\n",
    "***"
   ]
  },
  {
   "cell_type": "code",
   "execution_count": 1,
   "metadata": {
    "id": "JqO7pBmv34Xh"
   },
   "outputs": [],
   "source": [
    "# Permutations and combinations.\n",
    "import itertools as it"
   ]
  },
  {
   "cell_type": "code",
   "execution_count": 2,
   "metadata": {
    "id": "ChjJipGO4sO0"
   },
   "outputs": [],
   "source": [
    "# Random number generation.\n",
    "import random"
   ]
  },
  {
   "cell_type": "code",
   "execution_count": 3,
   "metadata": {
    "id": "6Tc4aYEP4w1r"
   },
   "outputs": [],
   "source": [
    "# Operators as functions.\n",
    "import operator"
   ]
  },
  {
   "cell_type": "markdown",
   "metadata": {
    "id": "MYmBnBw140gJ"
   },
   "source": [
    "## Simulate a game\n",
    "\n",
    "***"
   ]
  },
  {
   "cell_type": "code",
   "execution_count": 4,
   "metadata": {
    "colab": {
     "base_uri": "https://localhost:8080/"
    },
    "id": "Yx5IF5Zp5Cux",
    "outputId": "068fb3c3-c878-4454-921c-66142ee30675"
   },
   "outputs": [
    {
     "data": {
      "text/plain": [
       "[25, 50, 75, 100]"
      ]
     },
     "execution_count": 4,
     "metadata": {},
     "output_type": "execute_result"
    }
   ],
   "source": [
    "# The large numbers.\n",
    "large = [25, 50, 75, 100]\n",
    "large"
   ]
  },
  {
   "cell_type": "code",
   "execution_count": 5,
   "metadata": {
    "colab": {
     "base_uri": "https://localhost:8080/"
    },
    "id": "KxS3zv0d5HSL",
    "outputId": "2b7f8904-8935-42ed-e350-7c10d7cd19b4"
   },
   "outputs": [
    {
     "data": {
      "text/plain": [
       "[1, 2, 3, 4, 5, 6, 7, 8, 9, 10, 1, 2, 3, 4, 5, 6, 7, 8, 9, 10]"
      ]
     },
     "execution_count": 5,
     "metadata": {},
     "output_type": "execute_result"
    }
   ],
   "source": [
    "# The small numbers.\n",
    "small = list(range(1, 11)) * 2\n",
    "small"
   ]
  },
  {
   "cell_type": "code",
   "execution_count": 6,
   "metadata": {
    "colab": {
     "base_uri": "https://localhost:8080/"
    },
    "id": "JS9nIWtG5Mlg",
    "outputId": "e106c2b7-c6ff-42c1-fa29-ea3c176cf754"
   },
   "outputs": [
    {
     "data": {
      "text/plain": [
       "4"
      ]
     },
     "execution_count": 6,
     "metadata": {},
     "output_type": "execute_result"
    }
   ],
   "source": [
    "# The number of large numbers to pick - between 0 and 4 inclusive.\n",
    "no_large = random.randrange(0, 5)\n",
    "no_large"
   ]
  },
  {
   "cell_type": "code",
   "execution_count": 7,
   "metadata": {
    "colab": {
     "base_uri": "https://localhost:8080/"
    },
    "id": "0rCAkElK53YS",
    "outputId": "e8cad148-11f1-4c14-fdb7-f26eef2c1bd4"
   },
   "outputs": [
    {
     "data": {
      "text/plain": [
       "[75, 50, 25, 100]"
      ]
     },
     "execution_count": 7,
     "metadata": {},
     "output_type": "execute_result"
    }
   ],
   "source": [
    "# Select no_large large numbers at random.\n",
    "large_rand = random.sample(large, no_large)\n",
    "large_rand"
   ]
  },
  {
   "cell_type": "code",
   "execution_count": 8,
   "metadata": {
    "colab": {
     "base_uri": "https://localhost:8080/"
    },
    "id": "tM-eE80L6t9J",
    "outputId": "2d151822-7c5a-4ab5-a732-1aa29dda14fb"
   },
   "outputs": [
    {
     "data": {
      "text/plain": [
       "[7, 3]"
      ]
     },
     "execution_count": 8,
     "metadata": {},
     "output_type": "execute_result"
    }
   ],
   "source": [
    "# Select (6 - no_large) small numbers at random.\n",
    "small_rand = random.sample(small, 6 - no_large)\n",
    "small_rand"
   ]
  },
  {
   "cell_type": "code",
   "execution_count": 9,
   "metadata": {
    "colab": {
     "base_uri": "https://localhost:8080/"
    },
    "id": "xt9lTBVA60Z3",
    "outputId": "6cd4c175-d74d-43d8-a7a6-568172681d62"
   },
   "outputs": [
    {
     "data": {
      "text/plain": [
       "[75, 50, 25, 100, 7, 3]"
      ]
     },
     "execution_count": 9,
     "metadata": {},
     "output_type": "execute_result"
    }
   ],
   "source": [
    "# The six random numbers in a list.\n",
    "play_nos = large_rand + small_rand\n",
    "play_nos"
   ]
  },
  {
   "cell_type": "code",
   "execution_count": 10,
   "metadata": {
    "colab": {
     "base_uri": "https://localhost:8080/"
    },
    "id": "aaLW9vVS6-oK",
    "outputId": "3fe5166d-36d1-4e6f-95b3-1fc555ca8332"
   },
   "outputs": [
    {
     "data": {
      "text/plain": [
       "632"
      ]
     },
     "execution_count": 10,
     "metadata": {},
     "output_type": "execute_result"
    }
   ],
   "source": [
    "# Pick a random target number.\n",
    "target = random.randrange(101, 1000)\n",
    "target"
   ]
  },
  {
   "cell_type": "code",
   "execution_count": 11,
   "metadata": {
    "id": "_fZsrHYC7GcX"
   },
   "outputs": [],
   "source": [
    "# For random nubmers and samples.\n",
    "import random\n",
    "\n",
    "\n",
    "def new_numbers_game(no_large=None):\n",
    "  \"\"\" Returns six numbers and a target number representing a Countdown numbers game.\n",
    "  \"\"\"\n",
    "  # If no_large in None, randomly pick value between 0 and 4 inclusive.\n",
    "  if no_large is None:\n",
    "    # Randomly set the value.\n",
    "    no_large = random.randrange(0, 5)\n",
    "  \n",
    "  # Select random large numbers.\n",
    "  large_rand = random.sample([25, 50, 75, 100], no_large)\n",
    "  # Select random small numbers.\n",
    "  small_rand = random.sample(list(range(1, 11)) * 2, 6 - no_large)\n",
    "  # The playing numbers.\n",
    "  play_nos = large_rand + small_rand\n",
    "\n",
    "  # Select a target number.\n",
    "  target = random.randrange(101, 1000)\n",
    "\n",
    "  # Return the game.\n",
    "  return play_nos, target"
   ]
  },
  {
   "cell_type": "code",
   "execution_count": 12,
   "metadata": {
    "colab": {
     "base_uri": "https://localhost:8080/"
    },
    "id": "NRg6d62_-5AX",
    "outputId": "c7732167-7c67-42cb-b787-5025d9756173"
   },
   "outputs": [
    {
     "data": {
      "text/plain": [
       "([75, 50, 100, 25, 2, 6], 119)"
      ]
     },
     "execution_count": 12,
     "metadata": {},
     "output_type": "execute_result"
    }
   ],
   "source": [
    "# Random nubmers game.\n",
    "new_numbers_game()"
   ]
  },
  {
   "cell_type": "markdown",
   "metadata": {
    "id": "C50PBKIM-8TJ"
   },
   "source": [
    "## Working Towards a Solution\n",
    "\n",
    "***"
   ]
  },
  {
   "cell_type": "code",
   "execution_count": 13,
   "metadata": {
    "colab": {
     "base_uri": "https://localhost:8080/"
    },
    "id": "Grl8mQmu_hXH",
    "outputId": "913dae6c-53b4-4352-f72e-25222713ce22"
   },
   "outputs": [
    {
     "data": {
      "text/plain": [
       "([50, 9, 6, 1, 8, 3], 248)"
      ]
     },
     "execution_count": 13,
     "metadata": {},
     "output_type": "execute_result"
    }
   ],
   "source": [
    "# A new example game.\n",
    "play_nos, target = new_numbers_game()\n",
    "play_nos, target"
   ]
  },
  {
   "cell_type": "code",
   "execution_count": 14,
   "metadata": {
    "colab": {
     "base_uri": "https://localhost:8080/"
    },
    "id": "Vt0aVjTp_RDX",
    "outputId": "e6c17aa0-b1de-42e6-ad9d-68edee7e7586"
   },
   "outputs": [
    {
     "name": "stdout",
     "output_type": "stream",
     "text": [
      "(50, 9)\n",
      "50 + 9 = 59\n",
      "50 * 9 = 450\n",
      "50 - 9 = 41\n",
      "\n",
      "(50, 6)\n",
      "50 + 6 = 56\n",
      "50 * 6 = 300\n",
      "50 - 6 = 44\n",
      "\n",
      "(50, 1)\n",
      "50 + 1 = 51\n",
      "50 * 1 = 50\n",
      "50 - 1 = 49\n",
      "50 / 1 = 50\n",
      "\n",
      "(50, 8)\n",
      "50 + 8 = 58\n",
      "50 * 8 = 400\n",
      "50 - 8 = 42\n",
      "\n",
      "(50, 3)\n",
      "50 + 3 = 53\n",
      "50 * 3 = 150\n",
      "50 - 3 = 47\n",
      "\n",
      "(9, 50)\n",
      "9 + 50 = 59\n",
      "9 * 50 = 450\n",
      "\n",
      "(9, 6)\n",
      "9 + 6 = 15\n",
      "9 * 6 = 54\n",
      "9 - 6 = 3\n",
      "\n",
      "(9, 1)\n",
      "9 + 1 = 10\n",
      "9 * 1 = 9\n",
      "9 - 1 = 8\n",
      "9 / 1 = 9\n",
      "\n",
      "(9, 8)\n",
      "9 + 8 = 17\n",
      "9 * 8 = 72\n",
      "9 - 8 = 1\n",
      "\n",
      "(9, 3)\n",
      "9 + 3 = 12\n",
      "9 * 3 = 27\n",
      "9 - 3 = 6\n",
      "9 / 3 = 3\n",
      "\n",
      "(6, 50)\n",
      "6 + 50 = 56\n",
      "6 * 50 = 300\n",
      "\n",
      "(6, 9)\n",
      "6 + 9 = 15\n",
      "6 * 9 = 54\n",
      "\n",
      "(6, 1)\n",
      "6 + 1 = 7\n",
      "6 * 1 = 6\n",
      "6 - 1 = 5\n",
      "6 / 1 = 6\n",
      "\n",
      "(6, 8)\n",
      "6 + 8 = 14\n",
      "6 * 8 = 48\n",
      "\n",
      "(6, 3)\n",
      "6 + 3 = 9\n",
      "6 * 3 = 18\n",
      "6 - 3 = 3\n",
      "6 / 3 = 2\n",
      "\n",
      "(1, 50)\n",
      "1 + 50 = 51\n",
      "1 * 50 = 50\n",
      "\n",
      "(1, 9)\n",
      "1 + 9 = 10\n",
      "1 * 9 = 9\n",
      "\n",
      "(1, 6)\n",
      "1 + 6 = 7\n",
      "1 * 6 = 6\n",
      "\n",
      "(1, 8)\n",
      "1 + 8 = 9\n",
      "1 * 8 = 8\n",
      "\n",
      "(1, 3)\n",
      "1 + 3 = 4\n",
      "1 * 3 = 3\n",
      "\n",
      "(8, 50)\n",
      "8 + 50 = 58\n",
      "8 * 50 = 400\n",
      "\n",
      "(8, 9)\n",
      "8 + 9 = 17\n",
      "8 * 9 = 72\n",
      "\n",
      "(8, 6)\n",
      "8 + 6 = 14\n",
      "8 * 6 = 48\n",
      "8 - 6 = 2\n",
      "\n",
      "(8, 1)\n",
      "8 + 1 = 9\n",
      "8 * 1 = 8\n",
      "8 - 1 = 7\n",
      "8 / 1 = 8\n",
      "\n",
      "(8, 3)\n",
      "8 + 3 = 11\n",
      "8 * 3 = 24\n",
      "8 - 3 = 5\n",
      "\n",
      "(3, 50)\n",
      "3 + 50 = 53\n",
      "3 * 50 = 150\n",
      "\n",
      "(3, 9)\n",
      "3 + 9 = 12\n",
      "3 * 9 = 27\n",
      "\n",
      "(3, 6)\n",
      "3 + 6 = 9\n",
      "3 * 6 = 18\n",
      "\n",
      "(3, 1)\n",
      "3 + 1 = 4\n",
      "3 * 1 = 3\n",
      "3 - 1 = 2\n",
      "3 / 1 = 3\n",
      "\n",
      "(3, 8)\n",
      "3 + 8 = 11\n",
      "3 * 8 = 24\n",
      "\n"
     ]
    }
   ],
   "source": [
    "# Looping through all permutations of two playing numbers.\n",
    "for p in it.permutations(play_nos, 2):\n",
    "  # Print the two numbers.\n",
    "  print(p)\n",
    "  # Print their sum.\n",
    "  print(f'{p[0]} + {p[1]} = {p[0]+p[1]}')\n",
    "  # Print their product.\n",
    "  print(f'{p[0]} * {p[1]} = {p[0]*p[1]}')\n",
    "  # Print their difference if it is positive.\n",
    "  if p[0] - p[1] > 0:\n",
    "    print(f'{p[0]} - {p[1]} = {p[0]-p[1]}')\n",
    "  # Print their quotient if it is an integer.\n",
    "  if p[0] % p[1] == 0:\n",
    "    print(f'{p[0]} / {p[1]} = {p[0]//p[1]}')\n",
    "  # Print a blank line.\n",
    "  print()"
   ]
  },
  {
   "cell_type": "markdown",
   "metadata": {
    "id": "k31NgnigFNo4"
   },
   "source": [
    "## Operators and Functions\n",
    "\n",
    "***"
   ]
  },
  {
   "cell_type": "code",
   "execution_count": 15,
   "metadata": {
    "colab": {
     "base_uri": "https://localhost:8080/"
    },
    "id": "GYRC-wchHM00",
    "outputId": "0af74a6c-f2b9-4e3a-cce0-d354d318b646"
   },
   "outputs": [
    {
     "data": {
      "text/plain": [
       "9"
      ]
     },
     "execution_count": 15,
     "metadata": {},
     "output_type": "execute_result"
    }
   ],
   "source": [
    "# The + operator as a function.\n",
    "operator.add(4, 5)"
   ]
  },
  {
   "cell_type": "code",
   "execution_count": 16,
   "metadata": {
    "colab": {
     "base_uri": "https://localhost:8080/"
    },
    "id": "8MwlepeYHTxT",
    "outputId": "5410ce09-d5aa-4b5c-d726-1dc665960976"
   },
   "outputs": [
    {
     "data": {
      "text/plain": [
       "20"
      ]
     },
     "execution_count": 16,
     "metadata": {},
     "output_type": "execute_result"
    }
   ],
   "source": [
    "# The * operator as a function.\n",
    "operator.mul(4, 5)"
   ]
  },
  {
   "cell_type": "code",
   "execution_count": 17,
   "metadata": {
    "colab": {
     "base_uri": "https://localhost:8080/"
    },
    "id": "0Okp8PUnHffz",
    "outputId": "93f7c5b0-91a1-4ded-e115-b6e39eafe2bc"
   },
   "outputs": [
    {
     "data": {
      "text/plain": [
       "-1"
      ]
     },
     "execution_count": 17,
     "metadata": {},
     "output_type": "execute_result"
    }
   ],
   "source": [
    "# The - operator as a function.\n",
    "operator.sub(4, 5)"
   ]
  },
  {
   "cell_type": "code",
   "execution_count": 18,
   "metadata": {
    "colab": {
     "base_uri": "https://localhost:8080/"
    },
    "id": "XJXXSJSjHlnu",
    "outputId": "4a4325e5-b31a-4be0-adcf-ab03ade15ede"
   },
   "outputs": [
    {
     "data": {
      "text/plain": [
       "0.8"
      ]
     },
     "execution_count": 18,
     "metadata": {},
     "output_type": "execute_result"
    }
   ],
   "source": [
    "# The / operator as a function.\n",
    "operator.truediv(4, 5)"
   ]
  },
  {
   "cell_type": "code",
   "execution_count": 19,
   "metadata": {
    "colab": {
     "base_uri": "https://localhost:8080/"
    },
    "id": "BW2__Pn7HtN0",
    "outputId": "892f5ebc-f916-4bdf-8153-6d080e05c3a6"
   },
   "outputs": [
    {
     "data": {
      "text/plain": [
       "[<function _operator.add(a, b, /)>,\n",
       " <function _operator.mul(a, b, /)>,\n",
       " <function _operator.sub(a, b, /)>,\n",
       " <function _operator.truediv(a, b, /)>]"
      ]
     },
     "execution_count": 19,
     "metadata": {},
     "output_type": "execute_result"
    }
   ],
   "source": [
    "# The benefit of these is that they are first class objects.\n",
    "# Note the +, -, *, / operators can't be put in lists.\n",
    "ops = [operator.add, operator.mul, operator.sub, operator.truediv]\n",
    "ops"
   ]
  },
  {
   "cell_type": "code",
   "execution_count": 20,
   "metadata": {
    "colab": {
     "base_uri": "https://localhost:8080/"
    },
    "id": "bb1OPvEGIBVN",
    "outputId": "fd590636-c5e8-4573-a6d1-8cbf56c65f20"
   },
   "outputs": [
    {
     "name": "stdout",
     "output_type": "stream",
     "text": [
      "(<built-in function add>, <built-in function mul>, <built-in function sub>, <built-in function truediv>, <built-in function add>)\n",
      "(<built-in function add>, <built-in function mul>, <built-in function sub>, <built-in function truediv>, <built-in function mul>)\n",
      "(<built-in function add>, <built-in function mul>, <built-in function sub>, <built-in function truediv>, <built-in function sub>)\n",
      "(<built-in function add>, <built-in function mul>, <built-in function sub>, <built-in function truediv>, <built-in function truediv>)\n",
      "(<built-in function add>, <built-in function mul>, <built-in function sub>, <built-in function truediv>, <built-in function add>)\n",
      "(<built-in function add>, <built-in function mul>, <built-in function sub>, <built-in function truediv>, <built-in function mul>)\n",
      "(<built-in function add>, <built-in function mul>, <built-in function sub>, <built-in function truediv>, <built-in function sub>)\n",
      "(<built-in function add>, <built-in function mul>, <built-in function sub>, <built-in function truediv>, <built-in function truediv>)\n",
      "(<built-in function add>, <built-in function mul>, <built-in function sub>, <built-in function truediv>, <built-in function add>)\n",
      "(<built-in function add>, <built-in function mul>, <built-in function sub>, <built-in function truediv>, <built-in function mul>)\n"
     ]
    }
   ],
   "source": [
    "# Using permutations we can get all permutations with replacement of five operations.\n",
    "# We use a limit because their are a large number.\n",
    "limit = 10\n",
    "for q in it.permutations(ops * 5, 5):\n",
    "  if limit == 0:\n",
    "    break\n",
    "  print(q)\n",
    "  limit = limit - 1"
   ]
  },
  {
   "cell_type": "markdown",
   "metadata": {
    "id": "zD_6dt2nPhSY"
   },
   "source": [
    "## Permutations and Combinations\n",
    "\n",
    "***"
   ]
  },
  {
   "cell_type": "code",
   "execution_count": 21,
   "metadata": {
    "colab": {
     "base_uri": "https://localhost:8080/"
    },
    "id": "kiOcah20JiuX",
    "outputId": "c8fd12c8-606d-4edd-ab7b-e1d6f39e5d9b"
   },
   "outputs": [
    {
     "name": "stdout",
     "output_type": "stream",
     "text": [
      "(1, 2)\n",
      "(1, 3)\n",
      "(1, 4)\n",
      "(2, 3)\n",
      "(2, 4)\n",
      "(3, 4)\n"
     ]
    }
   ],
   "source": [
    "# Example of combinations.\n",
    "# Order matters: no. Replacement: no.\n",
    "L = [1, 2, 3, 4]\n",
    "for c in it.combinations(L, 2):\n",
    "  print(c)"
   ]
  },
  {
   "cell_type": "code",
   "execution_count": 22,
   "metadata": {
    "colab": {
     "base_uri": "https://localhost:8080/"
    },
    "id": "jORpHqGaKBdB",
    "outputId": "18e20d87-0458-4b47-a094-39c823547e40"
   },
   "outputs": [
    {
     "name": "stdout",
     "output_type": "stream",
     "text": [
      "(1, 1)\n",
      "(1, 2)\n",
      "(1, 3)\n",
      "(1, 4)\n",
      "(2, 2)\n",
      "(2, 3)\n",
      "(2, 4)\n",
      "(3, 3)\n",
      "(3, 4)\n",
      "(4, 4)\n"
     ]
    }
   ],
   "source": [
    "# Example of combinations with replacement.\n",
    "# Order matters: no. Replacement: yes.\n",
    "L = [1, 2, 3, 4]\n",
    "for c in it.combinations_with_replacement(L, 2):\n",
    "  print(c)"
   ]
  },
  {
   "cell_type": "code",
   "execution_count": 23,
   "metadata": {
    "colab": {
     "base_uri": "https://localhost:8080/"
    },
    "id": "qsiw3ufGKKlJ",
    "outputId": "af649799-0a64-4870-ebbd-58d5eca8e71b"
   },
   "outputs": [
    {
     "name": "stdout",
     "output_type": "stream",
     "text": [
      "(1, 2)\n",
      "(1, 3)\n",
      "(1, 4)\n",
      "(2, 1)\n",
      "(2, 3)\n",
      "(2, 4)\n",
      "(3, 1)\n",
      "(3, 2)\n",
      "(3, 4)\n",
      "(4, 1)\n",
      "(4, 2)\n",
      "(4, 3)\n"
     ]
    }
   ],
   "source": [
    "# Example of permutations of size 2.\n",
    "# Order matters: yes. Replacement: no.\n",
    "L = [1, 2, 3, 4]\n",
    "for c in it.permutations(L, 2):\n",
    "  print(c)"
   ]
  },
  {
   "cell_type": "code",
   "execution_count": 24,
   "metadata": {
    "colab": {
     "base_uri": "https://localhost:8080/"
    },
    "id": "HujYqrtcKSWr",
    "outputId": "16e0ea38-bb27-4654-8d0c-51f291543019"
   },
   "outputs": [
    {
     "name": "stdout",
     "output_type": "stream",
     "text": [
      "(1, 1)\n",
      "(1, 2)\n",
      "(1, 3)\n",
      "(1, 4)\n",
      "(2, 1)\n",
      "(2, 2)\n",
      "(2, 3)\n",
      "(2, 4)\n",
      "(3, 1)\n",
      "(3, 2)\n",
      "(3, 3)\n",
      "(3, 4)\n",
      "(4, 1)\n",
      "(4, 2)\n",
      "(4, 3)\n",
      "(4, 4)\n"
     ]
    }
   ],
   "source": [
    "# Example of products of length 2.\n",
    "# Order matters: yes. Replacement: yes.\n",
    "L = [1, 2, 3, 4]\n",
    "for c in it.product(L, repeat=2):\n",
    "  print(c)"
   ]
  },
  {
   "cell_type": "code",
   "execution_count": 25,
   "metadata": {
    "colab": {
     "base_uri": "https://localhost:8080/"
    },
    "id": "Bz-hF4nlKkNy",
    "outputId": "9ae819c0-6a18-48f2-8a35-c88ecce0e5db"
   },
   "outputs": [
    {
     "name": "stdout",
     "output_type": "stream",
     "text": [
      "(<built-in function add>, <built-in function add>, <built-in function add>, <built-in function add>, <built-in function add>)\n",
      "(<built-in function add>, <built-in function add>, <built-in function add>, <built-in function add>, <built-in function mul>)\n",
      "(<built-in function add>, <built-in function add>, <built-in function add>, <built-in function add>, <built-in function sub>)\n",
      "(<built-in function add>, <built-in function add>, <built-in function add>, <built-in function add>, <built-in function truediv>)\n",
      "(<built-in function add>, <built-in function add>, <built-in function add>, <built-in function mul>, <built-in function add>)\n",
      "(<built-in function add>, <built-in function add>, <built-in function add>, <built-in function mul>, <built-in function mul>)\n",
      "(<built-in function add>, <built-in function add>, <built-in function add>, <built-in function mul>, <built-in function sub>)\n",
      "(<built-in function add>, <built-in function add>, <built-in function add>, <built-in function mul>, <built-in function truediv>)\n",
      "(<built-in function add>, <built-in function add>, <built-in function add>, <built-in function sub>, <built-in function add>)\n",
      "(<built-in function add>, <built-in function add>, <built-in function add>, <built-in function sub>, <built-in function mul>)\n",
      "(<built-in function add>, <built-in function add>, <built-in function add>, <built-in function sub>, <built-in function sub>)\n",
      "(<built-in function add>, <built-in function add>, <built-in function add>, <built-in function sub>, <built-in function truediv>)\n",
      "(<built-in function add>, <built-in function add>, <built-in function add>, <built-in function truediv>, <built-in function add>)\n",
      "(<built-in function add>, <built-in function add>, <built-in function add>, <built-in function truediv>, <built-in function mul>)\n",
      "(<built-in function add>, <built-in function add>, <built-in function add>, <built-in function truediv>, <built-in function sub>)\n",
      "(<built-in function add>, <built-in function add>, <built-in function add>, <built-in function truediv>, <built-in function truediv>)\n",
      "(<built-in function add>, <built-in function add>, <built-in function mul>, <built-in function add>, <built-in function add>)\n",
      "(<built-in function add>, <built-in function add>, <built-in function mul>, <built-in function add>, <built-in function mul>)\n",
      "(<built-in function add>, <built-in function add>, <built-in function mul>, <built-in function add>, <built-in function sub>)\n",
      "(<built-in function add>, <built-in function add>, <built-in function mul>, <built-in function add>, <built-in function truediv>)\n",
      "(<built-in function add>, <built-in function add>, <built-in function mul>, <built-in function mul>, <built-in function add>)\n",
      "(<built-in function add>, <built-in function add>, <built-in function mul>, <built-in function mul>, <built-in function mul>)\n",
      "(<built-in function add>, <built-in function add>, <built-in function mul>, <built-in function mul>, <built-in function sub>)\n",
      "(<built-in function add>, <built-in function add>, <built-in function mul>, <built-in function mul>, <built-in function truediv>)\n",
      "(<built-in function add>, <built-in function add>, <built-in function mul>, <built-in function sub>, <built-in function add>)\n",
      "(<built-in function add>, <built-in function add>, <built-in function mul>, <built-in function sub>, <built-in function mul>)\n",
      "(<built-in function add>, <built-in function add>, <built-in function mul>, <built-in function sub>, <built-in function sub>)\n",
      "(<built-in function add>, <built-in function add>, <built-in function mul>, <built-in function sub>, <built-in function truediv>)\n",
      "(<built-in function add>, <built-in function add>, <built-in function mul>, <built-in function truediv>, <built-in function add>)\n",
      "(<built-in function add>, <built-in function add>, <built-in function mul>, <built-in function truediv>, <built-in function mul>)\n",
      "(<built-in function add>, <built-in function add>, <built-in function mul>, <built-in function truediv>, <built-in function sub>)\n",
      "(<built-in function add>, <built-in function add>, <built-in function mul>, <built-in function truediv>, <built-in function truediv>)\n",
      "(<built-in function add>, <built-in function add>, <built-in function sub>, <built-in function add>, <built-in function add>)\n",
      "(<built-in function add>, <built-in function add>, <built-in function sub>, <built-in function add>, <built-in function mul>)\n",
      "(<built-in function add>, <built-in function add>, <built-in function sub>, <built-in function add>, <built-in function sub>)\n",
      "(<built-in function add>, <built-in function add>, <built-in function sub>, <built-in function add>, <built-in function truediv>)\n",
      "(<built-in function add>, <built-in function add>, <built-in function sub>, <built-in function mul>, <built-in function add>)\n",
      "(<built-in function add>, <built-in function add>, <built-in function sub>, <built-in function mul>, <built-in function mul>)\n",
      "(<built-in function add>, <built-in function add>, <built-in function sub>, <built-in function mul>, <built-in function sub>)\n",
      "(<built-in function add>, <built-in function add>, <built-in function sub>, <built-in function mul>, <built-in function truediv>)\n",
      "(<built-in function add>, <built-in function add>, <built-in function sub>, <built-in function sub>, <built-in function add>)\n",
      "(<built-in function add>, <built-in function add>, <built-in function sub>, <built-in function sub>, <built-in function mul>)\n",
      "(<built-in function add>, <built-in function add>, <built-in function sub>, <built-in function sub>, <built-in function sub>)\n",
      "(<built-in function add>, <built-in function add>, <built-in function sub>, <built-in function sub>, <built-in function truediv>)\n",
      "(<built-in function add>, <built-in function add>, <built-in function sub>, <built-in function truediv>, <built-in function add>)\n",
      "(<built-in function add>, <built-in function add>, <built-in function sub>, <built-in function truediv>, <built-in function mul>)\n",
      "(<built-in function add>, <built-in function add>, <built-in function sub>, <built-in function truediv>, <built-in function sub>)\n",
      "(<built-in function add>, <built-in function add>, <built-in function sub>, <built-in function truediv>, <built-in function truediv>)\n",
      "(<built-in function add>, <built-in function add>, <built-in function truediv>, <built-in function add>, <built-in function add>)\n",
      "(<built-in function add>, <built-in function add>, <built-in function truediv>, <built-in function add>, <built-in function mul>)\n",
      "(<built-in function add>, <built-in function add>, <built-in function truediv>, <built-in function add>, <built-in function sub>)\n",
      "(<built-in function add>, <built-in function add>, <built-in function truediv>, <built-in function add>, <built-in function truediv>)\n",
      "(<built-in function add>, <built-in function add>, <built-in function truediv>, <built-in function mul>, <built-in function add>)\n",
      "(<built-in function add>, <built-in function add>, <built-in function truediv>, <built-in function mul>, <built-in function mul>)\n",
      "(<built-in function add>, <built-in function add>, <built-in function truediv>, <built-in function mul>, <built-in function sub>)\n",
      "(<built-in function add>, <built-in function add>, <built-in function truediv>, <built-in function mul>, <built-in function truediv>)\n",
      "(<built-in function add>, <built-in function add>, <built-in function truediv>, <built-in function sub>, <built-in function add>)\n",
      "(<built-in function add>, <built-in function add>, <built-in function truediv>, <built-in function sub>, <built-in function mul>)\n",
      "(<built-in function add>, <built-in function add>, <built-in function truediv>, <built-in function sub>, <built-in function sub>)\n",
      "(<built-in function add>, <built-in function add>, <built-in function truediv>, <built-in function sub>, <built-in function truediv>)\n",
      "(<built-in function add>, <built-in function add>, <built-in function truediv>, <built-in function truediv>, <built-in function add>)\n",
      "(<built-in function add>, <built-in function add>, <built-in function truediv>, <built-in function truediv>, <built-in function mul>)\n",
      "(<built-in function add>, <built-in function add>, <built-in function truediv>, <built-in function truediv>, <built-in function sub>)\n",
      "(<built-in function add>, <built-in function add>, <built-in function truediv>, <built-in function truediv>, <built-in function truediv>)\n",
      "(<built-in function add>, <built-in function mul>, <built-in function add>, <built-in function add>, <built-in function add>)\n",
      "(<built-in function add>, <built-in function mul>, <built-in function add>, <built-in function add>, <built-in function mul>)\n",
      "(<built-in function add>, <built-in function mul>, <built-in function add>, <built-in function add>, <built-in function sub>)\n",
      "(<built-in function add>, <built-in function mul>, <built-in function add>, <built-in function add>, <built-in function truediv>)\n",
      "(<built-in function add>, <built-in function mul>, <built-in function add>, <built-in function mul>, <built-in function add>)\n",
      "(<built-in function add>, <built-in function mul>, <built-in function add>, <built-in function mul>, <built-in function mul>)\n",
      "(<built-in function add>, <built-in function mul>, <built-in function add>, <built-in function mul>, <built-in function sub>)\n",
      "(<built-in function add>, <built-in function mul>, <built-in function add>, <built-in function mul>, <built-in function truediv>)\n",
      "(<built-in function add>, <built-in function mul>, <built-in function add>, <built-in function sub>, <built-in function add>)\n",
      "(<built-in function add>, <built-in function mul>, <built-in function add>, <built-in function sub>, <built-in function mul>)\n",
      "(<built-in function add>, <built-in function mul>, <built-in function add>, <built-in function sub>, <built-in function sub>)\n",
      "(<built-in function add>, <built-in function mul>, <built-in function add>, <built-in function sub>, <built-in function truediv>)\n",
      "(<built-in function add>, <built-in function mul>, <built-in function add>, <built-in function truediv>, <built-in function add>)\n",
      "(<built-in function add>, <built-in function mul>, <built-in function add>, <built-in function truediv>, <built-in function mul>)\n",
      "(<built-in function add>, <built-in function mul>, <built-in function add>, <built-in function truediv>, <built-in function sub>)\n",
      "(<built-in function add>, <built-in function mul>, <built-in function add>, <built-in function truediv>, <built-in function truediv>)\n",
      "(<built-in function add>, <built-in function mul>, <built-in function mul>, <built-in function add>, <built-in function add>)\n",
      "(<built-in function add>, <built-in function mul>, <built-in function mul>, <built-in function add>, <built-in function mul>)\n",
      "(<built-in function add>, <built-in function mul>, <built-in function mul>, <built-in function add>, <built-in function sub>)\n",
      "(<built-in function add>, <built-in function mul>, <built-in function mul>, <built-in function add>, <built-in function truediv>)\n",
      "(<built-in function add>, <built-in function mul>, <built-in function mul>, <built-in function mul>, <built-in function add>)\n",
      "(<built-in function add>, <built-in function mul>, <built-in function mul>, <built-in function mul>, <built-in function mul>)\n",
      "(<built-in function add>, <built-in function mul>, <built-in function mul>, <built-in function mul>, <built-in function sub>)\n",
      "(<built-in function add>, <built-in function mul>, <built-in function mul>, <built-in function mul>, <built-in function truediv>)\n",
      "(<built-in function add>, <built-in function mul>, <built-in function mul>, <built-in function sub>, <built-in function add>)\n",
      "(<built-in function add>, <built-in function mul>, <built-in function mul>, <built-in function sub>, <built-in function mul>)\n",
      "(<built-in function add>, <built-in function mul>, <built-in function mul>, <built-in function sub>, <built-in function sub>)\n",
      "(<built-in function add>, <built-in function mul>, <built-in function mul>, <built-in function sub>, <built-in function truediv>)\n",
      "(<built-in function add>, <built-in function mul>, <built-in function mul>, <built-in function truediv>, <built-in function add>)\n",
      "(<built-in function add>, <built-in function mul>, <built-in function mul>, <built-in function truediv>, <built-in function mul>)\n",
      "(<built-in function add>, <built-in function mul>, <built-in function mul>, <built-in function truediv>, <built-in function sub>)\n",
      "(<built-in function add>, <built-in function mul>, <built-in function mul>, <built-in function truediv>, <built-in function truediv>)\n",
      "(<built-in function add>, <built-in function mul>, <built-in function sub>, <built-in function add>, <built-in function add>)\n",
      "(<built-in function add>, <built-in function mul>, <built-in function sub>, <built-in function add>, <built-in function mul>)\n",
      "(<built-in function add>, <built-in function mul>, <built-in function sub>, <built-in function add>, <built-in function sub>)\n",
      "(<built-in function add>, <built-in function mul>, <built-in function sub>, <built-in function add>, <built-in function truediv>)\n"
     ]
    }
   ],
   "source": [
    "# Using product to generate all lists of five operations.\n",
    "ops = [operator.add, operator.mul, operator.sub, operator.truediv]\n",
    "limit = 100\n",
    "for q in it.product(ops, repeat=5):\n",
    "  if limit == 0:\n",
    "    break\n",
    "  print(q)\n",
    "  limit = limit - 1"
   ]
  },
  {
   "cell_type": "markdown",
   "metadata": {
    "id": "MPJugRaZP7Ap"
   },
   "source": [
    "## Reverse Polish Notation\n",
    "\n",
    "***"
   ]
  },
  {
   "cell_type": "code",
   "execution_count": 26,
   "metadata": {
    "colab": {
     "base_uri": "https://localhost:8080/"
    },
    "id": "537cA-mDNCHS",
    "outputId": "12c9f556-e62b-4fb0-a426-a1e9e4452a8a"
   },
   "outputs": [
    {
     "data": {
      "text/plain": [
       "23"
      ]
     },
     "execution_count": 26,
     "metadata": {},
     "output_type": "execute_result"
    }
   ],
   "source": [
    "# 3 4 5 * +\n",
    "3 + 4 * 5"
   ]
  },
  {
   "cell_type": "code",
   "execution_count": 27,
   "metadata": {
    "colab": {
     "base_uri": "https://localhost:8080/"
    },
    "id": "m_RjCx96MDtP",
    "outputId": "351c7390-a446-458f-c34b-e5f01358485e"
   },
   "outputs": [
    {
     "data": {
      "text/plain": [
       "35"
      ]
     },
     "execution_count": 27,
     "metadata": {},
     "output_type": "execute_result"
    }
   ],
   "source": [
    "# 3 4 + 5 *\n",
    "(3 + 4) * 5"
   ]
  },
  {
   "cell_type": "markdown",
   "metadata": {
    "id": "E8FzFpTJM1wu"
   },
   "source": [
    "***\n",
    "\n",
    "## End"
   ]
  }
 ],
 "metadata": {
  "colab": {
   "collapsed_sections": [],
   "name": "countdown-numbers.ipynb",
   "provenance": []
  },
  "kernelspec": {
   "display_name": "Python 3 (ipykernel)",
   "language": "python",
   "name": "python3"
  },
  "language_info": {
   "codemirror_mode": {
    "name": "ipython",
    "version": 3
   },
   "file_extension": ".py",
   "mimetype": "text/x-python",
   "name": "python",
   "nbconvert_exporter": "python",
   "pygments_lexer": "ipython3",
   "version": "3.8.12"
  }
 },
 "nbformat": 4,
 "nbformat_minor": 1
}
